{
 "cells": [
  {
   "cell_type": "markdown",
   "metadata": {},
   "source": [
    "## Definition"
   ]
  },
  {
   "cell_type": "markdown",
   "metadata": {},
   "source": [
    "<font color='red'>HERE! Include formal definitions of: object oriented language, class, attributes, methods, instances, instance variables, class variables\n",
    "</font>\n"
   ]
  },
  {
   "cell_type": "markdown",
   "metadata": {},
   "source": [
    "#### Python as Object-Oriented Programming language: \n",
    "everything in Python is an object ....\n"
   ]
  },
  {
   "cell_type": "markdown",
   "metadata": {},
   "source": [
    "**Classes** are user-defined prototype for an object. We know of built-in types like lists, dictionaries, etc. Classes make you built your own object."
   ]
  },
  {
   "cell_type": "markdown",
   "metadata": {},
   "source": [
    "Classes can be given a set of **attributes** that define \"element\" of the class and **methods** that specify \"actions\" that the class can have (??)"
   ]
  },
  {
   "cell_type": "markdown",
   "metadata": {},
   "source": [
    "Objects are instances of a class"
   ]
  },
  {
   "cell_type": "markdown",
   "metadata": {},
   "source": [
    "### Example"
   ]
  },
  {
   "cell_type": "code",
   "execution_count": 59,
   "metadata": {},
   "outputs": [],
   "source": [
    "class MyClass:\n",
    "    \"\"\"A simple example class\"\"\"\n",
    "    i = 12345\n"
   ]
  },
  {
   "cell_type": "markdown",
   "metadata": {},
   "source": [
    "``MyClass.i`` is an attributes reference that first returns an integer"
   ]
  },
  {
   "cell_type": "code",
   "execution_count": 60,
   "metadata": {},
   "outputs": [
    {
     "data": {
      "text/plain": [
       "12345"
      ]
     },
     "execution_count": 60,
     "metadata": {},
     "output_type": "execute_result"
    }
   ],
   "source": [
    "MyClass.i"
   ]
  },
  {
   "cell_type": "markdown",
   "metadata": {},
   "source": [
    "Calling the class name creates an **instance** of a class that inherits all the class attributes (in this case i and f)"
   ]
  },
  {
   "cell_type": "code",
   "execution_count": 54,
   "metadata": {},
   "outputs": [],
   "source": [
    "# the instance is created and assigned to the local variable x\n",
    "x = MyClass()"
   ]
  },
  {
   "cell_type": "markdown",
   "metadata": {},
   "source": [
    "This creates an empty object. To be able to create instances of classes with an initial state use the special method called ``__init__``\n"
   ]
  },
  {
   "cell_type": "code",
   "execution_count": 63,
   "metadata": {},
   "outputs": [],
   "source": [
    "class MyClass:\n",
    "    \"\"\"A simple example class\"\"\"\n",
    "    i = 12345\n",
    "    \n",
    "    def __init__(self, state):\n",
    "        self.state = state\n"
   ]
  },
  {
   "cell_type": "code",
   "execution_count": 64,
   "metadata": {},
   "outputs": [],
   "source": [
    "x = MyClass(state='nonesense')"
   ]
  },
  {
   "cell_type": "code",
   "execution_count": 65,
   "metadata": {},
   "outputs": [
    {
     "data": {
      "text/plain": [
       "'nonesense'"
      ]
     },
     "execution_count": 65,
     "metadata": {},
     "output_type": "execute_result"
    }
   ],
   "source": [
    "x.state"
   ]
  },
  {
   "cell_type": "markdown",
   "metadata": {},
   "source": [
    "``i`` is an example of a **class** variable: a variable that is shared by all instances of the class MyClass; ``state`` is an **instance variable**: a variable that is unique for each instance"
   ]
  },
  {
   "cell_type": "code",
   "execution_count": 66,
   "metadata": {},
   "outputs": [],
   "source": [
    "x = MyClass(state='nonesense')\n",
    "y = MyClass(state='another nonesense')"
   ]
  },
  {
   "cell_type": "code",
   "execution_count": 67,
   "metadata": {},
   "outputs": [
    {
     "data": {
      "text/plain": [
       "12345"
      ]
     },
     "execution_count": 67,
     "metadata": {},
     "output_type": "execute_result"
    }
   ],
   "source": [
    "x.i"
   ]
  },
  {
   "cell_type": "code",
   "execution_count": 68,
   "metadata": {},
   "outputs": [
    {
     "data": {
      "text/plain": [
       "12345"
      ]
     },
     "execution_count": 68,
     "metadata": {},
     "output_type": "execute_result"
    }
   ],
   "source": [
    "y.i"
   ]
  },
  {
   "cell_type": "code",
   "execution_count": 69,
   "metadata": {},
   "outputs": [
    {
     "data": {
      "text/plain": [
       "'nonesense'"
      ]
     },
     "execution_count": 69,
     "metadata": {},
     "output_type": "execute_result"
    }
   ],
   "source": [
    "x.state "
   ]
  },
  {
   "cell_type": "code",
   "execution_count": 70,
   "metadata": {},
   "outputs": [
    {
     "data": {
      "text/plain": [
       "'another nonesense'"
      ]
     },
     "execution_count": 70,
     "metadata": {},
     "output_type": "execute_result"
    }
   ],
   "source": [
    "y.state"
   ]
  },
  {
   "cell_type": "markdown",
   "metadata": {},
   "source": [
    "<font color='red'>HERE! Change example with another (Class Person)\n",
    "</font>\n"
   ]
  },
  {
   "cell_type": "code",
   "execution_count": 20,
   "metadata": {},
   "outputs": [],
   "source": [
    "# we create the class by writing the name after the keyword \"class\":\n",
    "\n",
    "class PointClass():\n",
    "    '''Creates a point on a coordinate plane with values x and y.'''\n",
    "    \n",
    "    # the __init__ function is used to define the list of attributes:\n",
    "    def __init__(self, x, y):\n",
    "        #the attributes to define a point can be its x,y coordinates\n",
    "        self.X = x\n",
    "        self.Y = y"
   ]
  },
  {
   "cell_type": "markdown",
   "metadata": {},
   "source": [
    "Everytime we use the name of the class (PointClass) we initialize an **instance** (in this case an exaple of object \"point\")"
   ]
  },
  {
   "cell_type": "code",
   "execution_count": 56,
   "metadata": {},
   "outputs": [],
   "source": [
    "#\"PointClass\" creates a new instance of the class PointClass and assigns it to the local variable p\n",
    "p = PointClass(x=2,y=3)"
   ]
  },
  {
   "cell_type": "markdown",
   "metadata": {},
   "source": [
    "You can access the attribute of a class via the dot notation"
   ]
  },
  {
   "cell_type": "code",
   "execution_count": 57,
   "metadata": {},
   "outputs": [
    {
     "data": {
      "text/plain": [
       "2"
      ]
     },
     "execution_count": 57,
     "metadata": {},
     "output_type": "execute_result"
    }
   ],
   "source": [
    "p.X"
   ]
  },
  {
   "cell_type": "code",
   "execution_count": 58,
   "metadata": {},
   "outputs": [
    {
     "data": {
      "text/plain": [
       "3"
      ]
     },
     "execution_count": 58,
     "metadata": {},
     "output_type": "execute_result"
    }
   ],
   "source": [
    "p.Y"
   ]
  },
  {
   "cell_type": "markdown",
   "metadata": {},
   "source": [
    "Now we want to be able to make some \"actions\" on the class instances: for example we would like to be able to shift a point to another point, to calculate the distance between two point, etc. For this we need to add some **methods**"
   ]
  },
  {
   "cell_type": "code",
   "execution_count": 25,
   "metadata": {},
   "outputs": [],
   "source": [
    "class PointClass():\n",
    "    '''Creates a point on a coordinate plane with values x and y.'''\n",
    "    \n",
    "    # the __init__ function is used to define the list of attributes:\n",
    "    def __init__(self, x, y):\n",
    "        #the attributes to define a point can be its x,y coordinates\n",
    "        self.X = x\n",
    "        self.Y = y\n",
    "    \n",
    "    def move(self, mx, my):\n",
    "        # the methods can act on the attributes of the class\n",
    "        self.X = self.X + mx\n",
    "        self.Y = self.Y + my\n",
    "        return self\n",
    "        "
   ]
  },
  {
   "cell_type": "code",
   "execution_count": 29,
   "metadata": {},
   "outputs": [],
   "source": [
    "p = PointClass(x=2,y=3)"
   ]
  },
  {
   "cell_type": "code",
   "execution_count": 59,
   "metadata": {},
   "outputs": [],
   "source": [
    "pm = p.move(3,4)"
   ]
  },
  {
   "cell_type": "code",
   "execution_count": 60,
   "metadata": {},
   "outputs": [
    {
     "data": {
      "text/plain": [
       "5"
      ]
     },
     "execution_count": 60,
     "metadata": {},
     "output_type": "execute_result"
    }
   ],
   "source": [
    "pm.X"
   ]
  },
  {
   "cell_type": "code",
   "execution_count": 61,
   "metadata": {},
   "outputs": [
    {
     "data": {
      "text/plain": [
       "7"
      ]
     },
     "execution_count": 61,
     "metadata": {},
     "output_type": "execute_result"
    }
   ],
   "source": [
    "pm.Y"
   ]
  },
  {
   "cell_type": "code",
   "execution_count": 36,
   "metadata": {},
   "outputs": [],
   "source": [
    "import math\n",
    "class PointClass():\n",
    "    '''Creates a point on a coordinate plane with values x and y.'''\n",
    "    \n",
    "    # the __init__ function is used to define the list of attributes:\n",
    "    def __init__(self, x, y):\n",
    "        #the attributes to define a point can be its x,y coordinates\n",
    "        self.X = x\n",
    "        self.Y = y\n",
    "    \n",
    "    def move(self, mx, my):\n",
    "        # the methods can act on the attributes of the class\n",
    "        self.X = self.X + mx\n",
    "        self.Y = self.Y + my\n",
    "        return self\n",
    "    \n",
    "    def distance(self, another):\n",
    "        #euclidean distance between two points\n",
    "        dx = self.X - another.X\n",
    "        dy = self.Y - another.Y\n",
    "        return math.sqrt(dx**2+dy**2)\n",
    "    "
   ]
  },
  {
   "cell_type": "code",
   "execution_count": 62,
   "metadata": {},
   "outputs": [],
   "source": [
    "p = PointClass(x=2,y=3)\n",
    "q = PointClass(x=1,y=4)"
   ]
  },
  {
   "cell_type": "code",
   "execution_count": 63,
   "metadata": {},
   "outputs": [
    {
     "data": {
      "text/plain": [
       "1.4142135623730951"
      ]
     },
     "execution_count": 63,
     "metadata": {},
     "output_type": "execute_result"
    }
   ],
   "source": [
    "p.distance(q)"
   ]
  },
  {
   "cell_type": "markdown",
   "metadata": {},
   "source": [
    "### Class inheritance"
   ]
  },
  {
   "cell_type": "markdown",
   "metadata": {},
   "source": [
    "<font color='red'>HERE! Change here with Class Person and Class Employee</font>\n"
   ]
  },
  {
   "cell_type": "markdown",
   "metadata": {},
   "source": [
    "It is possible to create a class that inherites attribute and methods from another class:\n",
    "Example: suppose you created of \"Vertebrates\" with attributes like \"num_of_legs\" and \"type\" (mammals, rectiles, etc..). You can create a more specific class of \"Dogs\" that inherites attributes and methods from the Vertrebrates class\n",
    "\n",
    "class Vertebrate():\n",
    "    \n",
    "    def __init__(self, num_of_legs, vert_type, size):\n",
    "        self.num_of_legs = num_of_legs\n",
    "        self.vert_type = vert_type\n",
    "        self.size = size\n",
    "        \n",
    "    def feed(self, food):\n",
    "        # by giving more food the size increases, of course :)\n",
    "        self.size = self.size + food\n",
    "        \n",
    "    \n",
    "#The class name Vertrebrates need to be passed as argument of Dog\n",
    "\n",
    "class Dog(Vertebrate):\n",
    "    \n",
    "    def __init__(self, name, fur, size):\n",
    "        Vertebrate.__init__(self, 4, 'Mammal', size)\n",
    "        self.name = name\n",
    "        self.fur = fur\n",
    "\n"
   ]
  },
  {
   "cell_type": "code",
   "execution_count": 6,
   "metadata": {},
   "outputs": [],
   "source": [
    "class Vertebrate():\n",
    "    \n",
    "    def __init__(self, num_of_legs, vert_type, size):\n",
    "        self.num_of_legs = num_of_legs\n",
    "        self.vert_type = vert_type\n",
    "        self.size = size\n",
    "        \n",
    "    def feed(self, food):\n",
    "        # by giving more food the size increases, of course :)\n",
    "        self.size = self.size + food\n",
    "        \n",
    "    \n",
    "#The class name Vertrebrates need to be passed as argument of Dog\n",
    "\n",
    "class Dog(Vertebrate):\n",
    "    \n",
    "    def __init__(self, name, fur, size):\n",
    "        Vertebrate.__init__(self, 4, 'Mammal', size)\n",
    "        self.name = name\n",
    "        self.fur = fur\n"
   ]
  },
  {
   "cell_type": "code",
   "execution_count": 10,
   "metadata": {},
   "outputs": [],
   "source": [
    "d = Dog('Fido','Long', 30)"
   ]
  },
  {
   "cell_type": "code",
   "execution_count": 11,
   "metadata": {},
   "outputs": [
    {
     "data": {
      "text/plain": [
       "4"
      ]
     },
     "execution_count": 11,
     "metadata": {},
     "output_type": "execute_result"
    }
   ],
   "source": [
    "d.num_of_legs"
   ]
  },
  {
   "cell_type": "code",
   "execution_count": 12,
   "metadata": {},
   "outputs": [],
   "source": [
    "d.feed(4)"
   ]
  },
  {
   "cell_type": "code",
   "execution_count": 13,
   "metadata": {},
   "outputs": [
    {
     "data": {
      "text/plain": [
       "34"
      ]
     },
     "execution_count": 13,
     "metadata": {},
     "output_type": "execute_result"
    }
   ],
   "source": [
    "d.size"
   ]
  },
  {
   "cell_type": "markdown",
   "metadata": {},
   "source": [
    "### Exercises\n",
    "1. Create the class of points in an Euclidean Space (*hint*: attributes should be coordinates x,y):\n",
    "   - Create a method that moves an instance of Point with coordinates x,y to anoter point x+m, y+n\n",
    "   - Create a method to calculate the distance between two instances\n",
    "   - Create a method ...\n",
    "2. Create the class of Triangles: pass the coordinates of the vertices as lists X,Y and make sure the length of the lists passed is always 3 (*hint*: use assert to create a test)\n",
    "   - Create a method to find the area of the Triangle (Use coordinates method to calculate it)\n",
    "3. Create the class of Polygons: pass the coordinates of the vertices as lists X,Y and and the length as attributes\n",
    "   - Create a method to find the area of a Polygon (see here for a formula:http://mathworld.wolfram.com/PolygonArea.html)\n",
    "   - Rewrite the class of Triangles created in 2., by inheriting attributes and methods from the class of Polygons"
   ]
  },
  {
   "cell_type": "code",
   "execution_count": 157,
   "metadata": {},
   "outputs": [],
   "source": [
    "class Polygon():\n",
    "    \n",
    "    def __init__(self, X, Y, n):\n",
    "        assert len(X)==len(Y)==n\n",
    "        self.X = X\n",
    "        self.Y = Y\n",
    "        self.n = n\n",
    "    \n",
    "    def area(self):\n",
    "        X = self.X\n",
    "        Y = self.Y\n",
    "        n = self.n\n",
    "        area = 0\n",
    "        for i in range(0,n-1):\n",
    "                m = np.array([[X[i], X[i+1]],[Y[i],Y[i+1]]])\n",
    "                area = area + np.linalg.det(m)\n",
    "        last_m = np.array([[X[n-1], X[0]],[Y[n-1], Y[0]]])\n",
    "        area = area + np.linalg.det(last_m)\n",
    "        return np.abs(area/2)"
   ]
  },
  {
   "cell_type": "code",
   "execution_count": 158,
   "metadata": {},
   "outputs": [],
   "source": [
    "class Triangle(Polygon):\n",
    "    \n",
    "    def __init__(self, X, Y):\n",
    "        Polygon.__init__(self, X, Y, n = 3)\n",
    "        \n",
    "    "
   ]
  },
  {
   "cell_type": "code",
   "execution_count": 104,
   "metadata": {},
   "outputs": [],
   "source": [
    "x = [4,  4,  8,  8, -4,-4]\n",
    "y = [6, -4, -4, -8, -8, 6]\n",
    "p = Polygon(x,y,len(x))"
   ]
  },
  {
   "cell_type": "code",
   "execution_count": 105,
   "metadata": {},
   "outputs": [
    {
     "data": {
      "text/plain": [
       "127.99999999999997"
      ]
     },
     "execution_count": 105,
     "metadata": {},
     "output_type": "execute_result"
    }
   ],
   "source": [
    "p.area()"
   ]
  },
  {
   "cell_type": "code",
   "execution_count": 106,
   "metadata": {},
   "outputs": [
    {
     "data": {
      "text/plain": [
       "0.25"
      ]
     },
     "execution_count": 106,
     "metadata": {},
     "output_type": "execute_result"
    }
   ],
   "source": [
    "t1.area()"
   ]
  },
  {
   "cell_type": "code",
   "execution_count": 159,
   "metadata": {},
   "outputs": [],
   "source": [
    "x = [0,0.5,0]\n",
    "y = [0,0,1]"
   ]
  },
  {
   "cell_type": "code",
   "execution_count": 161,
   "metadata": {},
   "outputs": [],
   "source": [
    "t2 = Triangle(x,y)"
   ]
  },
  {
   "cell_type": "code",
   "execution_count": 162,
   "metadata": {},
   "outputs": [
    {
     "data": {
      "text/plain": [
       "0.25"
      ]
     },
     "execution_count": 162,
     "metadata": {},
     "output_type": "execute_result"
    }
   ],
   "source": [
    "t2.area()"
   ]
  },
  {
   "cell_type": "markdown",
   "metadata": {},
   "source": [
    "<a>Double click to show the solution to Exercise 1.</a>\n",
    "<div class='spoiler'>\n",
    "import math\n",
    "class PointClass():\n",
    "    '''Creates a point on a coordinate plane with values x and y.'''\n",
    "    \n",
    "    # the __init__ function is used to define the list of attributes:\n",
    "    def __init__(self, x, y):\n",
    "        #the attributes to define a point can be its x,y coordinates\n",
    "        self.X = x\n",
    "        self.Y = y\n",
    "    \n",
    "    def move(self, mx, my):\n",
    "        # the methods can act on the attributes of the class\n",
    "        self.X = self.X + mx\n",
    "        self.Y = self.Y + my\n",
    "        return self\n",
    "    \n",
    "    def distance(self, another):\n",
    "        #euclidean distance between two points\n",
    "        dx = self.X - another.X\n",
    "        dy = self.Y - another.Y\n",
    "        return math.sqrt(dx**2+dy**2)\n",
    "</div>"
   ]
  },
  {
   "cell_type": "markdown",
   "metadata": {},
   "source": [
    "<a>Double click to show the solution to Exercise 2.</a>\n",
    "<div class='spoiler'>\n",
    "import numpy as np\n",
    "class Triangle():\n",
    "    \n",
    "    def __init__(self, X, Y):\n",
    "        self.X = X\n",
    "        self.Y = Y\n",
    "        assert len(self.X)==3\n",
    "        assert len(self.Y)==3\n",
    "    \n",
    "    def area(self):\n",
    "        X = self.X\n",
    "        Y = self.Y\n",
    "        m = np.array([[X[0],X[1],X[2]], [Y[0],Y[1],Y[2]], [1,1,1]])\n",
    "        sign_area = np.linalg.det(m)/2\n",
    "        return np.abs(sign_area)\n",
    "</div>"
   ]
  },
  {
   "cell_type": "markdown",
   "metadata": {},
   "source": [
    "<a>Double click to show the solution to Exercise 3.</a>\n",
    "<div class='spoiler'>\n",
    "class Polygon():\n",
    "    \n",
    "    def __init__(self, X, Y):\n",
    "        self.X = X\n",
    "        self.Y = Y\n",
    "        assert len(X)==len(Y)\n",
    "    \n",
    "    def area(self):\n",
    "        X = self.X\n",
    "        Y = self.Y\n",
    "        n = len(X)\n",
    "        area = 0\n",
    "        for i in range(0,n-1):\n",
    "                m = np.array([[X[i], X[i+1]],[Y[i],Y[i+1]]])\n",
    "                area = area + np.linalg.det(m)\n",
    "        last_m = np.array([[X[n-1], X[0]],[Y[n-1], Y[0]]])\n",
    "        area = area + np.linalg.det(last_m)\n",
    "        return np.abs(area/2)\n",
    "\n",
    "\n",
    "class Triangle(Polygon):\n",
    "    \n",
    "    def __init__(self, X, Y):\n",
    "        Polygon.__init__(self, X, Y, n = 3)\n",
    "        \n",
    "\n",
    "</div>"
   ]
  },
  {
   "cell_type": "code",
   "execution_count": 17,
   "metadata": {},
   "outputs": [],
   "source": [
    "def PolygonArea(X,Y,n):\n",
    "    area = 0\n",
    "    j = n-1\n",
    "    for i in range(0,n):\n",
    "        area = area + ((X[j]+X[i]) * (Y[j]-Y[i]))\n",
    "        j = i\n",
    "    return area/2"
   ]
  },
  {
   "cell_type": "code",
   "execution_count": 41,
   "metadata": {},
   "outputs": [],
   "source": [
    "x = [4,  4,  8,  8, -4,-4]\n",
    "y = [6, -4, -4, -8, -8, 6]"
   ]
  },
  {
   "cell_type": "code",
   "execution_count": 42,
   "metadata": {},
   "outputs": [
    {
     "data": {
      "text/plain": [
       "-104.0"
      ]
     },
     "execution_count": 42,
     "metadata": {},
     "output_type": "execute_result"
    }
   ],
   "source": [
    "PolygonArea2(x,y,6)"
   ]
  },
  {
   "cell_type": "code",
   "execution_count": 50,
   "metadata": {},
   "outputs": [],
   "source": [
    "def PolygonArea2(X,Y,n):\n",
    "    area = 0\n",
    "    for i in range(0,n):\n",
    "        if i != n-1:\n",
    "            area = area + (X[i]*Y[i+1] - X[i+1]*Y[i])\n",
    "        else:\n",
    "            area = area + (X[i]*Y[0] - X[0]*Y[i])\n",
    "    return area/2"
   ]
  },
  {
   "cell_type": "code",
   "execution_count": 51,
   "metadata": {},
   "outputs": [],
   "source": [
    "x = [4,  4,  8,  8, -4,-4]\n",
    "y = [6, -4, -4, -8, -8, 6]"
   ]
  },
  {
   "cell_type": "code",
   "execution_count": 52,
   "metadata": {},
   "outputs": [
    {
     "data": {
      "text/plain": [
       "-128.0"
      ]
     },
     "execution_count": 52,
     "metadata": {},
     "output_type": "execute_result"
    }
   ],
   "source": [
    "PolygonArea2(x,y,6)"
   ]
  },
  {
   "cell_type": "code",
   "execution_count": 53,
   "metadata": {},
   "outputs": [],
   "source": [
    "x = [0,1,0.4]\n",
    "y = [0,0,3]"
   ]
  },
  {
   "cell_type": "code",
   "execution_count": 54,
   "metadata": {},
   "outputs": [
    {
     "data": {
      "text/plain": [
       "1.5"
      ]
     },
     "execution_count": 54,
     "metadata": {},
     "output_type": "execute_result"
    }
   ],
   "source": [
    "PolygonArea2(x,y,3)"
   ]
  },
  {
   "cell_type": "code",
   "execution_count": null,
   "metadata": {},
   "outputs": [],
   "source": []
  }
 ],
 "metadata": {
  "kernelspec": {
   "display_name": "Python 3",
   "language": "python",
   "name": "python3"
  },
  "language_info": {
   "codemirror_mode": {
    "name": "ipython",
    "version": 3
   },
   "file_extension": ".py",
   "mimetype": "text/x-python",
   "name": "python",
   "nbconvert_exporter": "python",
   "pygments_lexer": "ipython3",
   "version": "3.6.4"
  }
 },
 "nbformat": 4,
 "nbformat_minor": 2
}
