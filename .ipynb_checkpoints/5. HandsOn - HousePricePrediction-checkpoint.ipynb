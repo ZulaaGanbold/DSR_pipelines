{
 "cells": [
  {
   "cell_type": "code",
   "execution_count": 1,
   "metadata": {},
   "outputs": [],
   "source": [
    "import pandas as pd\n",
    "import numpy as np"
   ]
  },
  {
   "cell_type": "code",
   "execution_count": 211,
   "metadata": {},
   "outputs": [],
   "source": [
    "train = pd.read_csv('./data/house_train.csv')\n",
    "test = pd.read_csv('./data/house_test.csv')"
   ]
  },
  {
   "cell_type": "code",
   "execution_count": 3,
   "metadata": {},
   "outputs": [
    {
     "data": {
      "text/html": [
       "<div>\n",
       "<style scoped>\n",
       "    .dataframe tbody tr th:only-of-type {\n",
       "        vertical-align: middle;\n",
       "    }\n",
       "\n",
       "    .dataframe tbody tr th {\n",
       "        vertical-align: top;\n",
       "    }\n",
       "\n",
       "    .dataframe thead th {\n",
       "        text-align: right;\n",
       "    }\n",
       "</style>\n",
       "<table border=\"1\" class=\"dataframe\">\n",
       "  <thead>\n",
       "    <tr style=\"text-align: right;\">\n",
       "      <th></th>\n",
       "      <th>Id</th>\n",
       "      <th>MSSubClass</th>\n",
       "      <th>MSZoning</th>\n",
       "      <th>LotFrontage</th>\n",
       "      <th>LotArea</th>\n",
       "      <th>Street</th>\n",
       "      <th>Alley</th>\n",
       "      <th>LotShape</th>\n",
       "      <th>LandContour</th>\n",
       "      <th>Utilities</th>\n",
       "      <th>...</th>\n",
       "      <th>PoolArea</th>\n",
       "      <th>PoolQC</th>\n",
       "      <th>Fence</th>\n",
       "      <th>MiscFeature</th>\n",
       "      <th>MiscVal</th>\n",
       "      <th>MoSold</th>\n",
       "      <th>YrSold</th>\n",
       "      <th>SaleType</th>\n",
       "      <th>SaleCondition</th>\n",
       "      <th>SalePrice</th>\n",
       "    </tr>\n",
       "  </thead>\n",
       "  <tbody>\n",
       "    <tr>\n",
       "      <th>0</th>\n",
       "      <td>1</td>\n",
       "      <td>60</td>\n",
       "      <td>RL</td>\n",
       "      <td>65.0</td>\n",
       "      <td>8450</td>\n",
       "      <td>Pave</td>\n",
       "      <td>NaN</td>\n",
       "      <td>Reg</td>\n",
       "      <td>Lvl</td>\n",
       "      <td>AllPub</td>\n",
       "      <td>...</td>\n",
       "      <td>0</td>\n",
       "      <td>NaN</td>\n",
       "      <td>NaN</td>\n",
       "      <td>NaN</td>\n",
       "      <td>0</td>\n",
       "      <td>2</td>\n",
       "      <td>2008</td>\n",
       "      <td>WD</td>\n",
       "      <td>Normal</td>\n",
       "      <td>208500</td>\n",
       "    </tr>\n",
       "    <tr>\n",
       "      <th>1</th>\n",
       "      <td>2</td>\n",
       "      <td>20</td>\n",
       "      <td>RL</td>\n",
       "      <td>80.0</td>\n",
       "      <td>9600</td>\n",
       "      <td>Pave</td>\n",
       "      <td>NaN</td>\n",
       "      <td>Reg</td>\n",
       "      <td>Lvl</td>\n",
       "      <td>AllPub</td>\n",
       "      <td>...</td>\n",
       "      <td>0</td>\n",
       "      <td>NaN</td>\n",
       "      <td>NaN</td>\n",
       "      <td>NaN</td>\n",
       "      <td>0</td>\n",
       "      <td>5</td>\n",
       "      <td>2007</td>\n",
       "      <td>WD</td>\n",
       "      <td>Normal</td>\n",
       "      <td>181500</td>\n",
       "    </tr>\n",
       "    <tr>\n",
       "      <th>2</th>\n",
       "      <td>3</td>\n",
       "      <td>60</td>\n",
       "      <td>RL</td>\n",
       "      <td>68.0</td>\n",
       "      <td>11250</td>\n",
       "      <td>Pave</td>\n",
       "      <td>NaN</td>\n",
       "      <td>IR1</td>\n",
       "      <td>Lvl</td>\n",
       "      <td>AllPub</td>\n",
       "      <td>...</td>\n",
       "      <td>0</td>\n",
       "      <td>NaN</td>\n",
       "      <td>NaN</td>\n",
       "      <td>NaN</td>\n",
       "      <td>0</td>\n",
       "      <td>9</td>\n",
       "      <td>2008</td>\n",
       "      <td>WD</td>\n",
       "      <td>Normal</td>\n",
       "      <td>223500</td>\n",
       "    </tr>\n",
       "    <tr>\n",
       "      <th>3</th>\n",
       "      <td>4</td>\n",
       "      <td>70</td>\n",
       "      <td>RL</td>\n",
       "      <td>60.0</td>\n",
       "      <td>9550</td>\n",
       "      <td>Pave</td>\n",
       "      <td>NaN</td>\n",
       "      <td>IR1</td>\n",
       "      <td>Lvl</td>\n",
       "      <td>AllPub</td>\n",
       "      <td>...</td>\n",
       "      <td>0</td>\n",
       "      <td>NaN</td>\n",
       "      <td>NaN</td>\n",
       "      <td>NaN</td>\n",
       "      <td>0</td>\n",
       "      <td>2</td>\n",
       "      <td>2006</td>\n",
       "      <td>WD</td>\n",
       "      <td>Abnorml</td>\n",
       "      <td>140000</td>\n",
       "    </tr>\n",
       "    <tr>\n",
       "      <th>4</th>\n",
       "      <td>5</td>\n",
       "      <td>60</td>\n",
       "      <td>RL</td>\n",
       "      <td>84.0</td>\n",
       "      <td>14260</td>\n",
       "      <td>Pave</td>\n",
       "      <td>NaN</td>\n",
       "      <td>IR1</td>\n",
       "      <td>Lvl</td>\n",
       "      <td>AllPub</td>\n",
       "      <td>...</td>\n",
       "      <td>0</td>\n",
       "      <td>NaN</td>\n",
       "      <td>NaN</td>\n",
       "      <td>NaN</td>\n",
       "      <td>0</td>\n",
       "      <td>12</td>\n",
       "      <td>2008</td>\n",
       "      <td>WD</td>\n",
       "      <td>Normal</td>\n",
       "      <td>250000</td>\n",
       "    </tr>\n",
       "  </tbody>\n",
       "</table>\n",
       "<p>5 rows × 81 columns</p>\n",
       "</div>"
      ],
      "text/plain": [
       "   Id  MSSubClass MSZoning  LotFrontage  LotArea Street Alley LotShape  \\\n",
       "0   1          60       RL         65.0     8450   Pave   NaN      Reg   \n",
       "1   2          20       RL         80.0     9600   Pave   NaN      Reg   \n",
       "2   3          60       RL         68.0    11250   Pave   NaN      IR1   \n",
       "3   4          70       RL         60.0     9550   Pave   NaN      IR1   \n",
       "4   5          60       RL         84.0    14260   Pave   NaN      IR1   \n",
       "\n",
       "  LandContour Utilities    ...     PoolArea PoolQC Fence MiscFeature MiscVal  \\\n",
       "0         Lvl    AllPub    ...            0    NaN   NaN         NaN       0   \n",
       "1         Lvl    AllPub    ...            0    NaN   NaN         NaN       0   \n",
       "2         Lvl    AllPub    ...            0    NaN   NaN         NaN       0   \n",
       "3         Lvl    AllPub    ...            0    NaN   NaN         NaN       0   \n",
       "4         Lvl    AllPub    ...            0    NaN   NaN         NaN       0   \n",
       "\n",
       "  MoSold YrSold  SaleType  SaleCondition  SalePrice  \n",
       "0      2   2008        WD         Normal     208500  \n",
       "1      5   2007        WD         Normal     181500  \n",
       "2      9   2008        WD         Normal     223500  \n",
       "3      2   2006        WD        Abnorml     140000  \n",
       "4     12   2008        WD         Normal     250000  \n",
       "\n",
       "[5 rows x 81 columns]"
      ]
     },
     "execution_count": 3,
     "metadata": {},
     "output_type": "execute_result"
    }
   ],
   "source": [
    "train.head()"
   ]
  },
  {
   "cell_type": "code",
   "execution_count": 4,
   "metadata": {},
   "outputs": [
    {
     "data": {
      "text/plain": [
       "81"
      ]
     },
     "execution_count": 4,
     "metadata": {},
     "output_type": "execute_result"
    }
   ],
   "source": [
    "len(train.columns)"
   ]
  },
  {
   "cell_type": "markdown",
   "metadata": {},
   "source": [
    "<font color='red'> HERE! Write schema of steps you want to implement </font>"
   ]
  },
  {
   "cell_type": "markdown",
   "metadata": {},
   "source": [
    "## Exercise:\n",
    "- Identify columns containing missing values. \n",
    "- For each of these columns calculate percentage of data containing missing values. What would you do with these columns? "
   ]
  },
  {
   "cell_type": "code",
   "execution_count": 5,
   "metadata": {},
   "outputs": [
    {
     "data": {
      "text/plain": [
       "['LotFrontage',\n",
       " 'Alley',\n",
       " 'MasVnrType',\n",
       " 'MasVnrArea',\n",
       " 'BsmtQual',\n",
       " 'BsmtCond',\n",
       " 'BsmtExposure',\n",
       " 'BsmtFinType1',\n",
       " 'BsmtFinType2',\n",
       " 'Electrical',\n",
       " 'FireplaceQu',\n",
       " 'GarageType',\n",
       " 'GarageYrBlt',\n",
       " 'GarageFinish',\n",
       " 'GarageQual',\n",
       " 'GarageCond',\n",
       " 'PoolQC',\n",
       " 'Fence',\n",
       " 'MiscFeature']"
      ]
     },
     "execution_count": 5,
     "metadata": {},
     "output_type": "execute_result"
    }
   ],
   "source": [
    "train.columns[train.isnull().any()].tolist()"
   ]
  },
  {
   "cell_type": "code",
   "execution_count": 6,
   "metadata": {},
   "outputs": [
    {
     "data": {
      "text/plain": [
       "1460"
      ]
     },
     "execution_count": 6,
     "metadata": {},
     "output_type": "execute_result"
    }
   ],
   "source": [
    "len(train)"
   ]
  },
  {
   "cell_type": "code",
   "execution_count": 7,
   "metadata": {},
   "outputs": [
    {
     "name": "stdout",
     "output_type": "stream",
     "text": [
      "LotFrontage - float64 - 0.1773972602739726\n",
      "Alley - object - 0.9376712328767123\n",
      "MasVnrType - object - 0.005479452054794521\n",
      "MasVnrArea - float64 - 0.005479452054794521\n",
      "BsmtQual - object - 0.025342465753424658\n",
      "BsmtCond - object - 0.025342465753424658\n",
      "BsmtExposure - object - 0.026027397260273973\n",
      "BsmtFinType1 - object - 0.025342465753424658\n",
      "BsmtFinType2 - object - 0.026027397260273973\n",
      "Electrical - object - 0.0006849315068493151\n",
      "FireplaceQu - object - 0.4726027397260274\n",
      "GarageType - object - 0.05547945205479452\n",
      "GarageYrBlt - float64 - 0.05547945205479452\n",
      "GarageFinish - object - 0.05547945205479452\n",
      "GarageQual - object - 0.05547945205479452\n",
      "GarageCond - object - 0.05547945205479452\n",
      "PoolQC - object - 0.9952054794520548\n",
      "Fence - object - 0.8075342465753425\n",
      "MiscFeature - object - 0.963013698630137\n"
     ]
    }
   ],
   "source": [
    "for item in train.columns[train.isnull().any()].tolist():\n",
    "    print(item,'-', train[item].dtype,'-', len(train[train[item].isnull()])/len(train))\n"
   ]
  },
  {
   "cell_type": "code",
   "execution_count": 8,
   "metadata": {},
   "outputs": [],
   "source": [
    "# drop MiscFeature, Fence, PoolQC, Alley\n"
   ]
  },
  {
   "cell_type": "markdown",
   "metadata": {},
   "source": [
    "## Exercise:\n",
    "- create a Tranformer ```Selector``` that selects columns from the dataframe (*hint*: the Transformer takes a list of columns as input and returns the dataframe with only the selected columns\n",
    "- What kind of transformer is it? Stateful? Stateless?"
   ]
  },
  {
   "cell_type": "code",
   "execution_count": 9,
   "metadata": {},
   "outputs": [],
   "source": [
    "from sklearn.base import BaseEstimator, TransformerMixin\n",
    "\n",
    "class PandasSelector(BaseEstimator, TransformerMixin):\n",
    "    \n",
    "    def __init__(self, columns):\n",
    "        self.columns = columns\n",
    "        \n",
    "    def fit(self, X, y = None):\n",
    "        return self\n",
    "    \n",
    "    def transform(self, X):\n",
    "        return X.loc[:,self.columns]\n"
   ]
  },
  {
   "cell_type": "markdown",
   "metadata": {},
   "source": [
    "## Exercise:\n",
    "- create a Transformer ```NullValuesNumerical``` that gets a list of numerical columns containing null values and replace null values with the median (*hint*: first create a Transformer that takes a column as argument and replace null values by the median. Then use this transformer in your NullValuesNumerical)\n",
    "- Would you use this transformer on columns like ```GarageYrBlt```? "
   ]
  },
  {
   "cell_type": "code",
   "execution_count": 174,
   "metadata": {},
   "outputs": [],
   "source": [
    "#class NullValuesNumericalCol(BaseEstimator, TransformerMixin):\n",
    "#    \n",
    "#    def __init__(self, col):\n",
    "#        self.col = col\n",
    "#    \n",
    "#    def fit(self, X, y = None):\n",
    "#        self.med = np.median(X.loc[X[self.col].isnull()==False,self.col])\n",
    "#        return self\n",
    "#    \n",
    "##    def transform(self, X):\n",
    "#       X.loc[X[self.col].isnull()==True,self.col] = self.med\n",
    "#        return X"
   ]
  },
  {
   "cell_type": "markdown",
   "metadata": {},
   "source": [
    "<font color='red'>HERE! Add assert statement to make sure the array is numerical?</font>"
   ]
  },
  {
   "cell_type": "code",
   "execution_count": 166,
   "metadata": {},
   "outputs": [],
   "source": [
    "class NullValuesNumericalArray(BaseEstimator, TransformerMixin):\n",
    "    \n",
    "    def fit(self, X, y = None):\n",
    "        self.med = np.nanmedian(X)\n",
    "        return self\n",
    "    \n",
    "    def transform(self, X):  \n",
    "        output = X.copy()\n",
    "        inds = np.where(np.isnan(output))\n",
    "        output[inds[0]] = self.med\n",
    "        return output"
   ]
  },
  {
   "cell_type": "code",
   "execution_count": 155,
   "metadata": {},
   "outputs": [],
   "source": [
    "class NullValuesNumerical(BaseEstimator, TransformerMixin):\n",
    "    \n",
    "    def __init__(self, columns):\n",
    "        self.columns = columns\n",
    "        \n",
    "    def fit(self, X, y = None):\n",
    "        return self\n",
    "        \n",
    "    def transform(self, X):\n",
    "        \n",
    "        X_ = X.copy()\n",
    "        if self.columns is not None:\n",
    "            for item in self.columns:\n",
    "                X_[item] = NullValuesNumericalArray().fit_transform(X_[item])\n",
    "        \n",
    "        return X_\n",
    "        "
   ]
  },
  {
   "cell_type": "markdown",
   "metadata": {},
   "source": [
    "## Exercise:\n",
    "- create a Transformer that takes a list of categorical columns and replace the missing values with a new value (ex.: 'Not-given'). The new value can be given as an attribute "
   ]
  },
  {
   "cell_type": "markdown",
   "metadata": {},
   "source": [
    "MasVnrType,BsmtQual, BsmtCond,BsmtExposure ,BsmtFinType1, BsmtFinType2, Electrical,FireplaceQu, GarageType,\n",
    "GarageYrBlt (need to be transformed into object),\n",
    "GarageFinish,\n",
    "GarageQual\n",
    "\n",
    "Drop rows where Electrical is Null, MasVnrType"
   ]
  },
  {
   "cell_type": "code",
   "execution_count": 212,
   "metadata": {},
   "outputs": [
    {
     "data": {
      "text/plain": [
       "array(['BrkFace', 'None', 'Stone', 'BrkCmn', nan], dtype=object)"
      ]
     },
     "execution_count": 212,
     "metadata": {},
     "output_type": "execute_result"
    }
   ],
   "source": [
    "train['MasVnrType'].unique()"
   ]
  },
  {
   "cell_type": "code",
   "execution_count": 213,
   "metadata": {},
   "outputs": [
    {
     "data": {
      "text/plain": [
       "8"
      ]
     },
     "execution_count": 213,
     "metadata": {},
     "output_type": "execute_result"
    }
   ],
   "source": [
    "len(train[pd.isnull(train['MasVnrType'])])"
   ]
  },
  {
   "cell_type": "code",
   "execution_count": 214,
   "metadata": {},
   "outputs": [
    {
     "data": {
      "text/plain": [
       "8"
      ]
     },
     "execution_count": 214,
     "metadata": {},
     "output_type": "execute_result"
    }
   ],
   "source": [
    "len(train[pd.isna(train['MasVnrType'])])"
   ]
  },
  {
   "cell_type": "code",
   "execution_count": 227,
   "metadata": {},
   "outputs": [],
   "source": [
    "#this Transformer takes a series as input and return the same series with missing values replaced by a new value\n",
    "class NullValuesCategoricalSeries(BaseEstimator,TransformerMixin):\n",
    "    \n",
    "    def __init__(self, value):\n",
    "        self.value = value\n",
    "        \n",
    "    def fit(self, X, y = None):\n",
    "        return self\n",
    "    \n",
    "    def transform(self, X):  \n",
    "        output = X.copy()\n",
    "#        inds = np.where(np.isnan(output))\n",
    "        output[output.isna()] = self.value\n",
    "        return output"
   ]
  },
  {
   "cell_type": "code",
   "execution_count": 228,
   "metadata": {},
   "outputs": [],
   "source": [
    "#this Transformer is applied to a dataframe and use the transformer above to replace categorical missing values\n",
    "class NullValuesCategorical(BaseEstimator,TransformerMixin):\n",
    "    \n",
    "    def __init__(self, value, columns):\n",
    "        self.value = value\n",
    "        self.columns = columns\n",
    "    \n",
    "    def fit(self, X, y = None):\n",
    "        return self\n",
    "    \n",
    "    def transform(self, X):\n",
    "        X_ = X.copy()\n",
    "        if self.columns is not None:\n",
    "            for item in self.columns:\n",
    "                X_[item] = NullValuesCategoricalSeries(self.value).fit_transform(X_[item])\n",
    "        return X_"
   ]
  },
  {
   "cell_type": "markdown",
   "metadata": {},
   "source": [
    "<font color ='red'>WE WILL USE ONE OF THE FOLLOWING TWO INPUTERS FOR CATEGORICAL COLUMNS</font>"
   ]
  },
  {
   "cell_type": "code",
   "execution_count": 264,
   "metadata": {},
   "outputs": [],
   "source": [
    "# this Transformer takes a dataframe and replace all the missing values by a new value\n",
    "class CategoricanImputerNew(BaseEstimator,TransformerMixin):\n",
    "    \n",
    "    def __init__(self, value):\n",
    "        self.value = value\n",
    "    \n",
    "    def fit(self, X, y=None):\n",
    "        assert X.dtypes.all() == 'object'\n",
    "        return self\n",
    "    \n",
    "    def transform(self, X):\n",
    "        X_ = X.fillna(self.value)\n",
    "        return X_"
   ]
  },
  {
   "cell_type": "code",
   "execution_count": 268,
   "metadata": {},
   "outputs": [],
   "source": [
    "# this Transformer takes a dataframe and replace all the missing values by the most common value\n",
    "\n",
    "class CategoricalImputerMostCommon(BaseEstimator,TransformerMixin):\n",
    "    \n",
    "    def __init__(self):\n",
    "        \"\"\"assert that all columns are of categorical type\"\"\"\n",
    "    \n",
    "    def fit(self, X, y=None):\n",
    "        assert X.dtypes.all() == 'object'\n",
    "        self.fill = pd.Series([X[c].value_counts().index[0] for c in X],\n",
    "            index=X.columns)\n",
    "        return self\n",
    "    \n",
    "    def transform(self, X):\n",
    "        X_ = X.fillna(self.fill)\n",
    "        return X_"
   ]
  },
  {
   "cell_type": "markdown",
   "metadata": {},
   "source": [
    "<font color='red'> USE inputer in scikit-learn for numerical columns!!!!</font>"
   ]
  },
  {
   "cell_type": "markdown",
   "metadata": {},
   "source": [
    "## Exercise:\n",
    "construct the first piece of the pipeline by combining the Columns selector and the inputer for Numerical and Categorical columns"
   ]
  },
  {
   "cell_type": "code",
   "execution_count": 242,
   "metadata": {},
   "outputs": [],
   "source": [
    "from sklearn.pipeline import make_pipeline, make_union\n",
    "from sklearn.preprocessing import Imputer\n"
   ]
  },
  {
   "cell_type": "code",
   "execution_count": 296,
   "metadata": {},
   "outputs": [],
   "source": [
    "num_columns = ['LotFrontage','LotArea','MasVnrArea','BsmtFinSF1','BsmtUnfSF']\n",
    "cat_columns = ['MasVnrType', 'BsmtQual', 'BsmtCond', 'BsmtExposure', 'BsmtFinType1']\n",
    "first_union = make_union(\n",
    "    #some numerical columns\n",
    "        make_pipeline(\n",
    "            PandasSelector(num_columns),\n",
    "            Imputer(strategy='median')\n",
    "        ),\n",
    "    #some categorical columns\n",
    "        make_pipeline(\n",
    "            PandasSelector(cat_columns),\n",
    "            CategoricalImputerMostCommon()\n",
    "            ))"
   ]
  },
  {
   "cell_type": "markdown",
   "metadata": {},
   "source": [
    "## Exercise:\n",
    "1. Create a transformer that takes a dataframe with categorical columns and transform them in numerical array (*hint*: have a look at pandas.get_dummies).\n",
    "2. Add the transformer into the pipeline above\n",
    "3. Have a look at ```OneHotEncoder``` (https://scikit-learn.org/stable/modules/generated/sklearn.preprocessing.OneHotEncoder.html): can we use it in this case? If yes, how? In no, why? :)"
   ]
  },
  {
   "cell_type": "markdown",
   "metadata": {},
   "source": [
    "<font color='red'> HERE!! ADD A PART IN WHICH WE CHECK THE UNIQUE VALUES OF CATEGORICAL COLUMNS IN ORDER TO AVOID TOO MANY COLUMNS AFTER DUMMING</font>"
   ]
  },
  {
   "cell_type": "code",
   "execution_count": 301,
   "metadata": {},
   "outputs": [],
   "source": [
    "class GetDummiesTransformer(BaseEstimator,TransformerMixin):\n",
    "    def __init__(self):\n",
    "        \"boh\"\n",
    "    def fit(self, X, y=None):\n",
    "        assert X.dtypes.all() =='object'\n",
    "        return self\n",
    "    def transform(self, X):\n",
    "        X_ = pd.get_dummies(X)\n",
    "        return X_\n",
    "        "
   ]
  },
  {
   "cell_type": "code",
   "execution_count": 305,
   "metadata": {},
   "outputs": [],
   "source": [
    "second_union = make_union(\n",
    "    #some numerical columns\n",
    "        make_pipeline(\n",
    "            PandasSelector(num_columns),\n",
    "            Imputer(strategy='median')\n",
    "        ),\n",
    "    #some categorical columns\n",
    "        make_pipeline(\n",
    "            PandasSelector(cat_columns),\n",
    "            CategoricalImputerMostCommon(),\n",
    "            GetDummiesTransformer()\n",
    "            ))"
   ]
  },
  {
   "cell_type": "markdown",
   "metadata": {},
   "source": [
    "Now we could have a look at the target (SalePrice) based on time. We assumer the price of houses change with the time so we could look at the price as time series based on Month Sold and Year Sold to see if there is some trend or seasonality"
   ]
  },
  {
   "cell_type": "code",
   "execution_count": 352,
   "metadata": {},
   "outputs": [
    {
     "data": {
      "text/plain": [
       "MoSold    int64\n",
       "YrSold    int64\n",
       "dtype: object"
      ]
     },
     "execution_count": 352,
     "metadata": {},
     "output_type": "execute_result"
    }
   ],
   "source": [
    "# transform MoSold and YrSold into a unique datetime column\n",
    "train[['MoSold','YrSold']].dtypes"
   ]
  },
  {
   "cell_type": "code",
   "execution_count": 353,
   "metadata": {},
   "outputs": [],
   "source": [
    "train.loc[:,'Mo-YrSold'] = pd.to_datetime(train.YrSold.astype('str')+train.MoSold.astype('str'), format = '%Y%m')\n"
   ]
  },
  {
   "cell_type": "code",
   "execution_count": 354,
   "metadata": {},
   "outputs": [
    {
     "data": {
      "text/html": [
       "<div>\n",
       "<style scoped>\n",
       "    .dataframe tbody tr th:only-of-type {\n",
       "        vertical-align: middle;\n",
       "    }\n",
       "\n",
       "    .dataframe tbody tr th {\n",
       "        vertical-align: top;\n",
       "    }\n",
       "\n",
       "    .dataframe thead th {\n",
       "        text-align: right;\n",
       "    }\n",
       "</style>\n",
       "<table border=\"1\" class=\"dataframe\">\n",
       "  <thead>\n",
       "    <tr style=\"text-align: right;\">\n",
       "      <th></th>\n",
       "      <th>Mo-YrSold</th>\n",
       "      <th>SalePrice</th>\n",
       "    </tr>\n",
       "  </thead>\n",
       "  <tbody>\n",
       "    <tr>\n",
       "      <th>810</th>\n",
       "      <td>2006-01-01</td>\n",
       "      <td>181000</td>\n",
       "    </tr>\n",
       "    <tr>\n",
       "      <th>996</th>\n",
       "      <td>2006-01-01</td>\n",
       "      <td>136500</td>\n",
       "    </tr>\n",
       "    <tr>\n",
       "      <th>664</th>\n",
       "      <td>2006-01-01</td>\n",
       "      <td>423000</td>\n",
       "    </tr>\n",
       "    <tr>\n",
       "      <th>302</th>\n",
       "      <td>2006-01-01</td>\n",
       "      <td>205000</td>\n",
       "    </tr>\n",
       "    <tr>\n",
       "      <th>141</th>\n",
       "      <td>2006-01-01</td>\n",
       "      <td>260000</td>\n",
       "    </tr>\n",
       "  </tbody>\n",
       "</table>\n",
       "</div>"
      ],
      "text/plain": [
       "     Mo-YrSold  SalePrice\n",
       "810 2006-01-01     181000\n",
       "996 2006-01-01     136500\n",
       "664 2006-01-01     423000\n",
       "302 2006-01-01     205000\n",
       "141 2006-01-01     260000"
      ]
     },
     "execution_count": 354,
     "metadata": {},
     "output_type": "execute_result"
    }
   ],
   "source": [
    "#sort the dataframe values by Mo-YrSold in ascending order\n",
    "train = train.sort_values('Mo-YrSold',ascending=True)\n",
    "train[['Mo-YrSold','SalePrice']].head()"
   ]
  },
  {
   "cell_type": "markdown",
   "metadata": {},
   "source": [
    "From the dataframe sample above, we see multiple values of SalePrice for each Mo-YrSold (obviously we have different houses sold by Month and Year in our dataframe). To have a general idea of how the house prices develop in time we should group by Mo-YrSold and calculate the mean price"
   ]
  },
  {
   "cell_type": "code",
   "execution_count": 355,
   "metadata": {},
   "outputs": [],
   "source": [
    "ts_agg = train.groupby('Mo-YrSold')['SalePrice'].mean().reset_index(name='meanSalePrice')"
   ]
  },
  {
   "cell_type": "code",
   "execution_count": 356,
   "metadata": {},
   "outputs": [
    {
     "data": {
      "text/html": [
       "<div>\n",
       "<style scoped>\n",
       "    .dataframe tbody tr th:only-of-type {\n",
       "        vertical-align: middle;\n",
       "    }\n",
       "\n",
       "    .dataframe tbody tr th {\n",
       "        vertical-align: top;\n",
       "    }\n",
       "\n",
       "    .dataframe thead th {\n",
       "        text-align: right;\n",
       "    }\n",
       "</style>\n",
       "<table border=\"1\" class=\"dataframe\">\n",
       "  <thead>\n",
       "    <tr style=\"text-align: right;\">\n",
       "      <th></th>\n",
       "      <th>Mo-YrSold</th>\n",
       "      <th>meanSalePrice</th>\n",
       "    </tr>\n",
       "  </thead>\n",
       "  <tbody>\n",
       "    <tr>\n",
       "      <th>0</th>\n",
       "      <td>2006-01-01</td>\n",
       "      <td>201090.000000</td>\n",
       "    </tr>\n",
       "    <tr>\n",
       "      <th>1</th>\n",
       "      <td>2006-02-01</td>\n",
       "      <td>194322.222222</td>\n",
       "    </tr>\n",
       "    <tr>\n",
       "      <th>2</th>\n",
       "      <td>2006-03-01</td>\n",
       "      <td>184982.200000</td>\n",
       "    </tr>\n",
       "    <tr>\n",
       "      <th>3</th>\n",
       "      <td>2006-04-01</td>\n",
       "      <td>174312.814815</td>\n",
       "    </tr>\n",
       "    <tr>\n",
       "      <th>4</th>\n",
       "      <td>2006-05-01</td>\n",
       "      <td>158928.289474</td>\n",
       "    </tr>\n",
       "  </tbody>\n",
       "</table>\n",
       "</div>"
      ],
      "text/plain": [
       "   Mo-YrSold  meanSalePrice\n",
       "0 2006-01-01  201090.000000\n",
       "1 2006-02-01  194322.222222\n",
       "2 2006-03-01  184982.200000\n",
       "3 2006-04-01  174312.814815\n",
       "4 2006-05-01  158928.289474"
      ]
     },
     "execution_count": 356,
     "metadata": {},
     "output_type": "execute_result"
    }
   ],
   "source": [
    "ts_agg.head()"
   ]
  },
  {
   "cell_type": "markdown",
   "metadata": {},
   "source": [
    "So in January 2006 houses were sold with an average price of 201090.000000 dollars!"
   ]
  },
  {
   "cell_type": "markdown",
   "metadata": {},
   "source": [
    "Now we are ready to plot our timeseries"
   ]
  },
  {
   "cell_type": "code",
   "execution_count": 357,
   "metadata": {},
   "outputs": [],
   "source": [
    "from matplotlib import pyplot as plt\n",
    "%matplotlib inline"
   ]
  },
  {
   "cell_type": "code",
   "execution_count": 358,
   "metadata": {},
   "outputs": [
    {
     "data": {
      "text/plain": [
       "<matplotlib.axes._subplots.AxesSubplot at 0x1a14a019b0>"
      ]
     },
     "execution_count": 358,
     "metadata": {},
     "output_type": "execute_result"
    },
    {
     "data": {
      "image/png": "[encoded data removed]",
      "text/plain": [
       "<Figure size 432x288 with 1 Axes>"
      ]
     },
     "metadata": {},
     "output_type": "display_data"
    }
   ],
   "source": [
    "ts_agg.plot(x='Mo-YrSold',y='meanSalePrice')"
   ]
  },
  {
   "cell_type": "markdown",
   "metadata": {},
   "source": [
    "From the plot above we see a huge drop in summer 2010. Maybe this is due to too much noise since we are considering ALL the houses together? Let's try to build this plot for different overall conditions"
   ]
  },
  {
   "cell_type": "code",
   "execution_count": 367,
   "metadata": {},
   "outputs": [],
   "source": [
    "cond_unique = list(np.sort(train['OverallCond'].unique()))"
   ]
  },
  {
   "cell_type": "code",
   "execution_count": 428,
   "metadata": {},
   "outputs": [
    {
     "data": {
      "image/png": "[encoded data removed]",
      "text/plain": [
       "<Figure size 1080x360 with 1 Axes>"
      ]
     },
     "metadata": {},
     "output_type": "display_data"
    }
   ],
   "source": [
    "fig, ax = plt.subplots()\n",
    "fig.set_figheight(5)\n",
    "fig.set_figwidth(15)\n",
    "for c in cond_unique:\n",
    "    c_train= train[train['OverallCond']==c].groupby('Mo-YrSold')['SalePrice'].mean().reset_index(name='meanSalePrice')\n",
    "    ax.plot(c_train['Mo-YrSold'], c_train['meanSalePrice'], label='OverallCond-'+str(c))\n",
    "leg = ax.legend();\n"
   ]
  },
  {
   "cell_type": "code",
   "execution_count": 429,
   "metadata": {},
   "outputs": [
    {
     "data": {
      "text/plain": [
       "OverallCond\n",
       "1      1\n",
       "2      5\n",
       "3     25\n",
       "4     57\n",
       "5    821\n",
       "6    252\n",
       "7    205\n",
       "8     72\n",
       "9     22\n",
       "dtype: int64"
      ]
     },
     "execution_count": 429,
     "metadata": {},
     "output_type": "execute_result"
    }
   ],
   "source": [
    "train.groupby('OverallCond').size()"
   ]
  },
  {
   "cell_type": "markdown",
   "metadata": {},
   "source": [
    "### Predictor: average forecast, weighted average forecast"
   ]
  },
  {
   "cell_type": "code",
   "execution_count": 431,
   "metadata": {},
   "outputs": [],
   "source": [
    "from sklearn.base import RegressorMixin"
   ]
  },
  {
   "cell_type": "code",
   "execution_count": 432,
   "metadata": {},
   "outputs": [],
   "source": [
    "class AvgForecast(BaseEstimator,RegressorMixin):\n",
    "    \"\"\"Calculate avg and return it as prediction\"\"\"\n",
    "        \n",
    "    def fit(self, X):\n",
    "        \"\"\"Calculate avg of X values\"\"\"\n",
    "        self.avg = np.mean(X)\n",
    "        return self\n",
    "    \n",
    "    def predict(self, X):\n",
    "        self.predict = np.array([self.avg for x in X])\n",
    "        return self.predict\n",
    "    \n",
    "    def score(self, X):\n",
    "        \"\"\"Calculate rmse\"\"\"\n",
    "        return sqrt(np.sum((X-self.predict)**2)/len(X))\n",
    " \n"
   ]
  },
  {
   "cell_type": "code",
   "execution_count": 433,
   "metadata": {},
   "outputs": [],
   "source": [
    "class WeightedAvgForecast(BaseEstimator,RegressorMixin):\n",
    "    \"\"\"Calculate avg and return it as prediction\"\"\"\n",
    "    \n",
    "    def __init__(self, split, factor):\n",
    "\n",
    "        self.split = split\n",
    "        self.factor = factor\n",
    "        self.weight1 = None\n",
    "        self.weight2 = None\n",
    "    \n",
    "    def get_weights(self, X):\n",
    "        \"\"\"Calculate weights for the weighted average.\n",
    "        The calculation depends on: \n",
    "            split: number of (last) samples we want to give more weight. To these samples weight2 will be assigned \n",
    "            n: number of total samples\n",
    "            factor: the factor weight2/weight1\n",
    "        \"\"\"\n",
    "        n = len(X)\n",
    "        self.weight1 = n/((self.factor-1)*self.split + n)\n",
    "        self.weight2 = self.factor*self.weight1\n",
    "        return self.weight1, self.weight2\n",
    "           \n",
    "    def fit(self, X):\n",
    "        \"\"\"Calculate the weighted avg of X values\"\"\"\n",
    "        n = len(X)\n",
    "        past = X[:n-self.split]\n",
    "        recent = X[-self.split:]\n",
    "        self.weight1 = self.get_weights(X)[0]\n",
    "        self.weight2 = self.get_weights(X)[1]\n",
    "        self.avg = (np.sum(self.weight1*past) + np.sum(self.weight2*recent))/n\n",
    "        return self\n",
    "    \n",
    "    def predict(self, X):\n",
    "        self.predict = np.array([self.avg for x in X])\n",
    "        return self.predict\n",
    "    \n",
    "    def score(self, X):\n",
    "        \"\"\"Calculate rmse\"\"\"\n",
    "        return sqrt(np.sum((X-self.predict)**2)/len(X))\n",
    "        \n"
   ]
  },
  {
   "cell_type": "code",
   "execution_count": null,
   "metadata": {},
   "outputs": [],
   "source": []
  }
 ],
 "metadata": {
  "kernelspec": {
   "display_name": "Python 3",
   "language": "python",
   "name": "python3"
  },
  "language_info": {
   "codemirror_mode": {
    "name": "ipython",
    "version": 3
   },
   "file_extension": ".py",
   "mimetype": "text/x-python",
   "name": "python",
   "nbconvert_exporter": "python",
   "pygments_lexer": "ipython3",
   "version": "3.6.4"
  }
 },
 "nbformat": 4,
 "nbformat_minor": 2
}
