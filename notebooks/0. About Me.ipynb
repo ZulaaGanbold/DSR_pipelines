{
 "cells": [
  {
   "cell_type": "markdown",
   "metadata": {},
   "source": [
    "# Hi!"
   ]
  },
  {
   "cell_type": "markdown",
   "metadata": {},
   "source": [
    "<font size=4>\n",
    "My name is **Francesca Diana**. I work as Data Science at **codecentric AG**.\n",
    "Codecentric is a consulting company for agile software development that has a variety of customers looking for IT-Solution (and trying to solve their Data Problems :)).\n",
    "    \n",
    "I studied Mathematics and got my PhD at the University of Regensburg (topic: geometric group theory). After that I started working in the industry in Berlin as Business Intelligence Manager. I took part at DSR last year (Batch 12)\n",
    "\n",
    "</font>"
   ]
  },
  {
   "cell_type": "markdown",
   "metadata": {},
   "source": [
    "<img src=\"../images/codecentric_logo_groß.png\">"
   ]
  },
  {
   "cell_type": "markdown",
   "metadata": {},
   "source": [
    "**Contact**: francesca.diana@codecentric.de\n",
    "\n",
    "https://www.codecentric.de/"
   ]
  },
  {
   "cell_type": "markdown",
   "metadata": {},
   "source": [
    "## Previous/Current DSR Teacher of Advanced Pipelines:\n"
   ]
  },
  {
   "cell_type": "markdown",
   "metadata": {},
   "source": [
    "**Rachel Berryman** : https://github.com/rachelkberryman/DSR_Model_Pipelines_Course\n",
    "\n",
    "**Paweł Jankiewicz**: https://github.com/logicai-io/pipelines-sklearn\n",
    "\n",
    "Some of the content here is taken from their repo."
   ]
  }
 ],
 "metadata": {
  "kernelspec": {
   "display_name": "Python 3",
   "language": "python",
   "name": "python3"
  },
  "language_info": {
   "codemirror_mode": {
    "name": "ipython",
    "version": 3
   },
   "file_extension": ".py",
   "mimetype": "text/x-python",
   "name": "python",
   "nbconvert_exporter": "python",
   "pygments_lexer": "ipython3",
   "version": "3.6.4"
  }
 },
 "nbformat": 4,
 "nbformat_minor": 2
}
